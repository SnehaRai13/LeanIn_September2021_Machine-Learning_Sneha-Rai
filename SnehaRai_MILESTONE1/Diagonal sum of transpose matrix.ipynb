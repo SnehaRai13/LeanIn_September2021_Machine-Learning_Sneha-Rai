{
 "cells": [
  {
   "cell_type": "code",
   "execution_count": 15,
   "id": "2c0dc2ed",
   "metadata": {},
   "outputs": [
    {
     "name": "stdout",
     "output_type": "stream",
     "text": [
      "Transpose matrix: \n",
      " [[ 1  5  1  5]\n",
      " [ 2  6  2  6]\n",
      " [ 5  2 20  7]\n",
      " [ 4  8  4 16]]\n",
      "Principal Diagonal: 43\n"
     ]
    }
   ],
   "source": [
    "import numpy as np\n",
    "\n",
    "def printDiagonalSums(mat, n):\n",
    "    principal=0\n",
    "    \n",
    "    for i in range(0, n):\n",
    "        for j in range(0, n):\n",
    " \n",
    "            # Condition for principal diagonal\n",
    "            if (i == j):\n",
    "                principal += mat[i][j]\n",
    "         \n",
    "    print(\"Principal Diagonal:\", principal)\n",
    "    \n",
    "    # Driver code\n",
    "mat= np.array([[ 1, 2, 5, 4 ],[ 5, 6, 2, 8 ],[ 1, 2, 20, 4 ], [ 5, 6, 7, 16 ]])\n",
    "matrix=mat.T\n",
    "print(\"Transpose matrix:\\n\",matrix)\n",
    "printDiagonalSums(matrix, 4)"
   ]
  },
  {
   "cell_type": "code",
   "execution_count": null,
   "id": "5c5cef64",
   "metadata": {},
   "outputs": [],
   "source": []
  },
  {
   "cell_type": "code",
   "execution_count": null,
   "id": "d8c5d4ec",
   "metadata": {},
   "outputs": [],
   "source": []
  }
 ],
 "metadata": {
  "kernelspec": {
   "display_name": "Python 3",
   "language": "python",
   "name": "python3"
  },
  "language_info": {
   "codemirror_mode": {
    "name": "ipython",
    "version": 3
   },
   "file_extension": ".py",
   "mimetype": "text/x-python",
   "name": "python",
   "nbconvert_exporter": "python",
   "pygments_lexer": "ipython3",
   "version": "3.8.8"
  }
 },
 "nbformat": 4,
 "nbformat_minor": 5
}
