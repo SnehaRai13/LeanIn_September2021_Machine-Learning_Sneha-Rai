{
 "cells": [
  {
   "cell_type": "code",
   "execution_count": 12,
   "id": "e90925d5",
   "metadata": {},
   "outputs": [
    {
     "name": "stdout",
     "output_type": "stream",
     "text": [
      "Enter n:4\n",
      "The sum of n term is:  10.95\n"
     ]
    }
   ],
   "source": [
    "def summing(n):\n",
    " \n",
    "    S = 0\n",
    "    j=3\n",
    "    for i in range(1, n+1):\n",
    "        S += (i*j+1)/j\n",
    "        j=j+1\n",
    "     \n",
    "    return S\n",
    " \n",
    "# Driver Code\n",
    "n = int(input(\"Enter n:\"))\n",
    "print(\"The sum of n term is: \",summing(n))"
   ]
  },
  {
   "cell_type": "code",
   "execution_count": null,
   "id": "bd96d5bc",
   "metadata": {},
   "outputs": [],
   "source": []
  },
  {
   "cell_type": "code",
   "execution_count": null,
   "id": "0930c069",
   "metadata": {},
   "outputs": [],
   "source": []
  }
 ],
 "metadata": {
  "kernelspec": {
   "display_name": "Python 3",
   "language": "python",
   "name": "python3"
  },
  "language_info": {
   "codemirror_mode": {
    "name": "ipython",
    "version": 3
   },
   "file_extension": ".py",
   "mimetype": "text/x-python",
   "name": "python",
   "nbconvert_exporter": "python",
   "pygments_lexer": "ipython3",
   "version": "3.8.8"
  }
 },
 "nbformat": 4,
 "nbformat_minor": 5
}
