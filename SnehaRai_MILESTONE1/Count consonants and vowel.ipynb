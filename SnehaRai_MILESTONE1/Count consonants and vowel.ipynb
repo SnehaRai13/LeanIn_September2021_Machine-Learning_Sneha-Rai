{
 "cells": [
  {
   "cell_type": "code",
   "execution_count": 1,
   "id": "affea882",
   "metadata": {},
   "outputs": [
    {
     "name": "stdout",
     "output_type": "stream",
     "text": [
      "Enter String : apple\n",
      "Total Number of Vowels in the String =  2\n",
      "Total Number of Consonants in the String =  3\n"
     ]
    }
   ],
   "source": [
    "str1 = input(\"Enter String : \")\n",
    "vowels = 0\n",
    "consonants = 0\n",
    "str1.lower()\n",
    "\n",
    "for i in str1:\n",
    "    if(i == 'a' or i == 'e' or i == 'i' or i == 'o' or i == 'u'):\n",
    "        vowels = vowels + 1\n",
    "    else:\n",
    "        consonants = consonants + 1\n",
    " \n",
    "print(\"Total Number of Vowels in the String = \", vowels)\n",
    "print(\"Total Number of Consonants in the String = \", consonants)"
   ]
  },
  {
   "cell_type": "code",
   "execution_count": null,
   "id": "ccea26c3",
   "metadata": {},
   "outputs": [],
   "source": []
  }
 ],
 "metadata": {
  "kernelspec": {
   "display_name": "Python 3",
   "language": "python",
   "name": "python3"
  },
  "language_info": {
   "codemirror_mode": {
    "name": "ipython",
    "version": 3
   },
   "file_extension": ".py",
   "mimetype": "text/x-python",
   "name": "python",
   "nbconvert_exporter": "python",
   "pygments_lexer": "ipython3",
   "version": "3.8.8"
  }
 },
 "nbformat": 4,
 "nbformat_minor": 5
}
